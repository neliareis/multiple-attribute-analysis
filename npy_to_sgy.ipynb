{
 "cells": [
  {
   "cell_type": "code",
   "execution_count": 17,
   "source": [
    "import segyio.tools as st\r\n",
    "import segyio\r\n",
    "import numpy as np\r\n"
   ],
   "outputs": [],
   "metadata": {}
  },
  {
   "cell_type": "code",
   "execution_count": 10,
   "source": [
    "# caminho do dado\r\n",
    "path = 'D:/Users/NKings/Documents/PUC/Mestrado/Base/'"
   ],
   "outputs": [],
   "metadata": {}
  },
  {
   "cell_type": "code",
   "execution_count": 7,
   "source": [
    "# caminho dos dados do artigo\r\n",
    "path_volume = path + \"volume/seismic_entire_volume.npy\"\r\n",
    "\r\n",
    "# carregando os dados\r\n",
    "volume_seismic = np.load(path_volume)\r\n",
    "\r\n",
    "# exibindo shape dos dados\r\n",
    "print('Volume: ', volume_seismic.shape)"
   ],
   "outputs": [
    {
     "output_type": "stream",
     "name": "stdout",
     "text": [
      "Volume:  (601, 901, 255)\n"
     ]
    }
   ],
   "metadata": {}
  },
  {
   "cell_type": "code",
   "execution_count": 13,
   "source": [
    "st.from_array(\"seismic_volume.sgy\", volume_seismic)"
   ],
   "outputs": [
    {
     "output_type": "stream",
     "name": "stderr",
     "text": [
      "C:\\Users\\NKings\\anaconda3\\envs\\nelia\\lib\\site-packages\\segyio\\utils.py:23: RuntimeWarning: Implicit conversion from float64 to float32 (narrowing)\n",
      "  warnings.warn(msg.format(x.dtype, dtype), RuntimeWarning)\n"
     ]
    }
   ],
   "metadata": {}
  },
  {
   "cell_type": "code",
   "execution_count": 22,
   "source": [
    "fname = \"seismic_volume.sgy\"\r\n",
    "\r\n",
    "with segyio.open(fname, ignore_geometry=True) as file:\r\n",
    "    amplitude = file.trace.raw[:]\r\n"
   ],
   "outputs": [],
   "metadata": {}
  },
  {
   "cell_type": "code",
   "execution_count": 23,
   "source": [
    "print(amplitude.shape)"
   ],
   "outputs": [
    {
     "output_type": "stream",
     "name": "stdout",
     "text": [
      "(541501, 255)\n"
     ]
    }
   ],
   "metadata": {}
  }
 ],
 "metadata": {
  "orig_nbformat": 4,
  "language_info": {
   "name": "python",
   "version": "3.8.3",
   "mimetype": "text/x-python",
   "codemirror_mode": {
    "name": "ipython",
    "version": 3
   },
   "pygments_lexer": "ipython3",
   "nbconvert_exporter": "python",
   "file_extension": ".py"
  },
  "kernelspec": {
   "name": "python3",
   "display_name": "Python 3.8.3 64-bit ('nelia': conda)"
  },
  "interpreter": {
   "hash": "f5bbc6c00eb81d25ab725b1e618f27445191d9c69c363d1f3604970f65c7c656"
  }
 },
 "nbformat": 4,
 "nbformat_minor": 2
}