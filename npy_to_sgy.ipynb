{
 "cells": [
  {
   "cell_type": "code",
   "execution_count": 10,
   "source": [
    "import segyio.tools as st\r\n",
    "import segyio\r\n",
    "import numpy as np"
   ],
   "outputs": [],
   "metadata": {}
  },
  {
   "cell_type": "code",
   "execution_count": 11,
   "source": [
    "# caminho do dado\r\n",
    "path = 'D:/Users/NKings/Documents/PUC/Mestrado/Base/'"
   ],
   "outputs": [],
   "metadata": {}
  },
  {
   "cell_type": "code",
   "execution_count": 12,
   "source": [
    "# caminho dos dados do artigo\r\n",
    "path_volume = path + \"volume/seismic_entire_volume.npy\"\r\n",
    "\r\n",
    "# carregando os dados\r\n",
    "volume_seismic = np.load(path_volume)\r\n",
    "\r\n",
    "# exibindo shape dos dados\r\n",
    "print('Volume: ', volume_seismic.shape)"
   ],
   "outputs": [
    {
     "output_type": "stream",
     "name": "stdout",
     "text": [
      "Volume:  (601, 901, 255)\n"
     ]
    }
   ],
   "metadata": {}
  },
  {
   "cell_type": "code",
   "execution_count": 4,
   "source": [
    "data = np.asarray(volume_seismic)\r\n",
    "dimensions = len(data.shape)"
   ],
   "outputs": [],
   "metadata": {}
  },
  {
   "cell_type": "code",
   "execution_count": 5,
   "source": [
    "print(dimensions)"
   ],
   "outputs": [
    {
     "output_type": "stream",
     "name": "stdout",
     "text": [
      "3\n"
     ]
    }
   ],
   "metadata": {}
  },
  {
   "cell_type": "code",
   "execution_count": 14,
   "source": [
    "# Cria um arquivo SEGY a partir de uma matriz n-dimensional\r\n",
    "st.from_array(\"seismic_volume_New.sgy\", volume_seismic)"
   ],
   "outputs": [
    {
     "output_type": "stream",
     "name": "stderr",
     "text": [
      "C:\\Users\\NKings\\anaconda3\\envs\\nelia\\lib\\site-packages\\segyio\\utils.py:23: RuntimeWarning: Implicit conversion from float64 to float32 (narrowing)\n",
      "  warnings.warn(msg.format(x.dtype, dtype), RuntimeWarning)\n"
     ]
    }
   ],
   "metadata": {}
  }
 ],
 "metadata": {
  "orig_nbformat": 4,
  "language_info": {
   "name": "python",
   "version": "3.8.3",
   "mimetype": "text/x-python",
   "codemirror_mode": {
    "name": "ipython",
    "version": 3
   },
   "pygments_lexer": "ipython3",
   "nbconvert_exporter": "python",
   "file_extension": ".py"
  },
  "kernelspec": {
   "name": "python3",
   "display_name": "Python 3.8.3 64-bit ('nelia': conda)"
  },
  "interpreter": {
   "hash": "f5bbc6c00eb81d25ab725b1e618f27445191d9c69c363d1f3604970f65c7c656"
  }
 },
 "nbformat": 4,
 "nbformat_minor": 2
}