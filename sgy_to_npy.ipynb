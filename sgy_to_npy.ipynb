{
 "cells": [
  {
   "cell_type": "code",
   "execution_count": null,
   "source": [
    "import matplotlib.pyplot as plt\r\n",
    "import segyio.tools as st\r\n",
    "import numpy as np"
   ],
   "outputs": [],
   "metadata": {}
  },
  {
   "cell_type": "code",
   "execution_count": null,
   "source": [
    "path = \"D:/Users/NKings/Documents/PUC/Mestrado/OpendTect/F3_mod/Export/\"\r\n",
    "\r\n",
    "data = \"InstaPhase.sgy\""
   ],
   "outputs": [],
   "metadata": {}
  },
  {
   "cell_type": "code",
   "execution_count": null,
   "source": [
    "filename = path + data"
   ],
   "outputs": [],
   "metadata": {}
  },
  {
   "cell_type": "code",
   "execution_count": null,
   "source": [
    "volume = st.cube(filename)"
   ],
   "outputs": [],
   "metadata": {}
  },
  {
   "cell_type": "code",
   "execution_count": null,
   "source": [
    "plt.figure(figsize=(25, 20))\r\n",
    "plt.title(\"Volume\")\r\n",
    "plt.axis('off')\r\n",
    "plt.imshow(np.fliplr(volume.T[:, :, 325]), aspect=1.5, cmap='seismic')"
   ],
   "outputs": [],
   "metadata": {}
  },
  {
   "cell_type": "code",
   "execution_count": null,
   "source": [
    "# Save numpy as npy\r\n",
    "np.save(path + \"corte_425.npy\", dfDropLines2)"
   ],
   "outputs": [],
   "metadata": {}
  }
 ],
 "metadata": {
  "orig_nbformat": 4,
  "language_info": {
   "name": "python"
  }
 },
 "nbformat": 4,
 "nbformat_minor": 2
}